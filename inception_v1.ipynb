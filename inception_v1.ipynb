{
 "cells": [
  {
   "cell_type": "code",
   "execution_count": 5,
   "metadata": {},
   "outputs": [
    {
     "name": "stdout",
     "output_type": "stream",
     "text": [
      "Requirement already satisfied: torch in /Users/rzhishchev/Downloads/ds-phase-2-master/pytorch_env/lib/python3.11/site-packages (2.0.1)\n",
      "Requirement already satisfied: torchvision in /Users/rzhishchev/Downloads/ds-phase-2-master/pytorch_env/lib/python3.11/site-packages (0.15.2)\n",
      "Requirement already satisfied: filelock in /Users/rzhishchev/Downloads/ds-phase-2-master/pytorch_env/lib/python3.11/site-packages (from torch) (3.12.2)\n",
      "Requirement already satisfied: typing-extensions in /Users/rzhishchev/Downloads/ds-phase-2-master/pytorch_env/lib/python3.11/site-packages (from torch) (4.7.1)\n",
      "Requirement already satisfied: sympy in /Users/rzhishchev/Downloads/ds-phase-2-master/pytorch_env/lib/python3.11/site-packages (from torch) (1.12)\n",
      "Requirement already satisfied: networkx in /Users/rzhishchev/Downloads/ds-phase-2-master/pytorch_env/lib/python3.11/site-packages (from torch) (3.1)\n",
      "Requirement already satisfied: jinja2 in /Users/rzhishchev/Downloads/ds-phase-2-master/pytorch_env/lib/python3.11/site-packages (from torch) (3.1.2)\n",
      "Requirement already satisfied: numpy in /Users/rzhishchev/Downloads/ds-phase-2-master/pytorch_env/lib/python3.11/site-packages (from torchvision) (1.25.2)\n",
      "Requirement already satisfied: requests in /Users/rzhishchev/Downloads/ds-phase-2-master/pytorch_env/lib/python3.11/site-packages (from torchvision) (2.31.0)\n",
      "Requirement already satisfied: pillow!=8.3.*,>=5.3.0 in /Users/rzhishchev/Downloads/ds-phase-2-master/pytorch_env/lib/python3.11/site-packages (from torchvision) (10.0.0)\n",
      "Requirement already satisfied: MarkupSafe>=2.0 in /Users/rzhishchev/Downloads/ds-phase-2-master/pytorch_env/lib/python3.11/site-packages (from jinja2->torch) (2.1.3)\n",
      "Requirement already satisfied: charset-normalizer<4,>=2 in /Users/rzhishchev/Downloads/ds-phase-2-master/pytorch_env/lib/python3.11/site-packages (from requests->torchvision) (3.2.0)\n",
      "Requirement already satisfied: idna<4,>=2.5 in /Users/rzhishchev/Downloads/ds-phase-2-master/pytorch_env/lib/python3.11/site-packages (from requests->torchvision) (3.4)\n",
      "Requirement already satisfied: urllib3<3,>=1.21.1 in /Users/rzhishchev/Downloads/ds-phase-2-master/pytorch_env/lib/python3.11/site-packages (from requests->torchvision) (2.0.4)\n",
      "Requirement already satisfied: certifi>=2017.4.17 in /Users/rzhishchev/Downloads/ds-phase-2-master/pytorch_env/lib/python3.11/site-packages (from requests->torchvision) (2023.7.22)\n",
      "Requirement already satisfied: mpmath>=0.19 in /Users/rzhishchev/Downloads/ds-phase-2-master/pytorch_env/lib/python3.11/site-packages (from sympy->torch) (1.3.0)\n"
     ]
    },
    {
     "name": "stderr",
     "output_type": "stream",
     "text": [
      "/Users/rzhishchev/Downloads/ds-phase-2-master/pytorch_env/lib/python3.11/site-packages/torchvision/models/_utils.py:208: UserWarning: The parameter 'pretrained' is deprecated since 0.13 and may be removed in the future, please use 'weights' instead.\n",
      "  warnings.warn(\n",
      "/Users/rzhishchev/Downloads/ds-phase-2-master/pytorch_env/lib/python3.11/site-packages/torchvision/models/_utils.py:223: UserWarning: Arguments other than a weight enum or `None` for 'weights' are deprecated since 0.13 and may be removed in the future. The current behavior is equivalent to passing `weights=Inception_V3_Weights.IMAGENET1K_V1`. You can also use `weights=Inception_V3_Weights.DEFAULT` to get the most up-to-date weights.\n",
      "  warnings.warn(msg)\n"
     ]
    }
   ],
   "source": [
    "# Установка необходимых библиотек\n",
    "\n",
    "import torch\n",
    "import torchvision.transforms as transforms\n",
    "from torchvision.models import inception_v3\n",
    "from PIL import Image\n",
    "import requests\n",
    "from io import BytesIO\n",
    "\n",
    "# Загрузка предварительно обученной модели Inception\n",
    "model = inception_v3(pretrained=True)\n",
    "model.eval()  # Установка модели в режим оценки (не обучения)\n",
    "\n",
    "# Функция для загрузки и обработки изображения\n",
    "def load_image_from_url(url):\n",
    "    response = requests.get(url)\n",
    "    image = Image.open(BytesIO(response.content)).convert('RGB')\n",
    "    preprocess = transforms.Compose([\n",
    "        transforms.Resize(299),  # Размер, который требуется для Inception\n",
    "        transforms.CenterCrop(299),\n",
    "        transforms.ToTensor(),\n",
    "        transforms.Normalize(mean=[0.485, 0.456, 0.406], std=[0.229, 0.224, 0.225]),  # Нормализация для ImageNet\n",
    "    ])\n",
    "    return preprocess(image).unsqueeze(0)"
   ]
  },
  {
   "cell_type": "code",
   "execution_count": 6,
   "metadata": {},
   "outputs": [],
   "source": [
    "# Загрузка меток классов ImageNet\n",
    "LABELS_URL = 'https://raw.githubusercontent.com/anishathalye/imagenet-simple-labels/master/imagenet-simple-labels.json'\n",
    "labels = requests.get(LABELS_URL).json()\n",
    "\n",
    "# Получение класса изображения\n",
    "def predict_image_class(url):\n",
    "    with torch.no_grad():\n",
    "        image = load_image_from_url(url)\n",
    "        outputs = model(image)\n",
    "        _, predicted_class = outputs.max(1)  # Получаем класс с максимальной вероятностью\n",
    "        class_name = labels[predicted_class.item()]\n",
    "        return class_name\n",
    "\n",
    "\n"
   ]
  },
  {
   "cell_type": "code",
   "execution_count": 7,
   "metadata": {},
   "outputs": [
    {
     "name": "stdout",
     "output_type": "stream",
     "text": [
      "On the image: tabby cat\n"
     ]
    }
   ],
   "source": [
    "# Теперь вы можете предсказать класс изображения, используя:\n",
    "url = \"https://t1.gstatic.com/licensed-image?q=tbn:ANd9GcRRv9ICxXjK-LVFv-lKRId6gB45BFoNCLsZ4dk7bZpYGblPLPG-9aYss0Z0wt2PmWDb\"\n",
    "predicted_class_name = predict_image_class(url)\n",
    "print(f\"On the image: {predicted_class_name}\")"
   ]
  }
 ],
 "metadata": {
  "kernelspec": {
   "display_name": "pytorch_env",
   "language": "python",
   "name": "python3"
  },
  "language_info": {
   "codemirror_mode": {
    "name": "ipython",
    "version": 3
   },
   "file_extension": ".py",
   "mimetype": "text/x-python",
   "name": "python",
   "nbconvert_exporter": "python",
   "pygments_lexer": "ipython3",
   "version": "3.11.4"
  },
  "orig_nbformat": 4
 },
 "nbformat": 4,
 "nbformat_minor": 2
}
